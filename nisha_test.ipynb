{
 "cells": [
  {
   "cell_type": "code",
   "execution_count": null,
   "metadata": {},
   "outputs": [],
   "source": [
    "# Learning Panda"
   ]
  },
  {
   "cell_type": "code",
   "execution_count": null,
   "metadata": {},
   "outputs": [],
   "source": [
    "import pandas as pd \n",
    "import numpy as np \n",
    "import matplotlib.pyplot as plt \n",
    "\n",
    "# initialize this way so that `plt.show()` is not needed @ cell to display plot\n",
    "%matplotlib inline"
   ]
  },
  {
   "cell_type": "code",
   "execution_count": null,
   "metadata": {},
   "outputs": [],
   "source": [
    "# time_course_df = pd.read_excel('Time-course_2.xlsx', 'S1(1-342)-C  + Y.hCAD', index_col=None, na_values=[0], skiprows=6) # Read excel 'Time-course_2.xlsx' with sheet 'S1(1-342)-C  + Y.hCAD' to dataframe\n",
    "time_course_df = pd.read_excel('Time-course_2.xlsx', 'S1(1-342)-C  + Y.hCAD', index_col=0, parse_dates=True, skiprows=6) # set indexed column 'Timestamp' and dates in excel is parsed as datatime type"
   ]
  },
  {
   "cell_type": "code",
   "execution_count": null,
   "metadata": {},
   "outputs": [],
   "source": [
    "# time_course_df.replace('--',0)\n",
    "# time_course_df"
   ]
  },
  {
   "cell_type": "code",
   "execution_count": null,
   "metadata": {},
   "outputs": [],
   "source": [
    "time_course_df[75:]"
   ]
  },
  {
   "cell_type": "code",
   "execution_count": null,
   "metadata": {},
   "outputs": [],
   "source": [
    "time_course_df.iloc[0:75] # CFP dataframe"
   ]
  },
  {
   "cell_type": "code",
   "execution_count": null,
   "metadata": {},
   "outputs": [],
   "source": [
    "time_course_df.iloc[0:75, 0:4] # CFP dataframe with specific column by index"
   ]
  },
  {
   "cell_type": "code",
   "execution_count": null,
   "metadata": {},
   "outputs": [],
   "source": [
    "time_course_df.loc[time_course_df.index[0:75], ['Object - 5 Mean Intensity (ADU), ch1:CFP']] # CFP dataframe with specific column by index and name mixed type"
   ]
  },
  {
   "cell_type": "code",
   "execution_count": null,
   "metadata": {},
   "outputs": [],
   "source": [
    "time_course_df.set_index('TimePoint') # you can do this while opening files seting 'index_col' parameter"
   ]
  },
  {
   "cell_type": "code",
   "execution_count": null,
   "metadata": {},
   "outputs": [],
   "source": [
    "# time_course_df.columns = 'TimePoint', 'Object - 0 Mean Intensity (ADU), ch1:CFP'"
   ]
  },
  {
   "cell_type": "code",
   "execution_count": null,
   "metadata": {},
   "outputs": [],
   "source": [
    "# CFP part starts here"
   ]
  },
  {
   "cell_type": "code",
   "execution_count": null,
   "metadata": {},
   "outputs": [],
   "source": [
    "cfp_df = time_course_df.iloc[0:75] # CFP dataframe"
   ]
  },
  {
   "cell_type": "code",
   "execution_count": null,
   "metadata": {},
   "outputs": [],
   "source": [
    "cfp_df['corrected column'] = cfp_df['Object - 1 Mean Intensity (ADU), ch1:CFP'] - cfp_df['Object - 0 Mean Intensity (ADU), ch1:CFP']"
   ]
  },
  {
   "cell_type": "code",
   "execution_count": null,
   "metadata": {},
   "outputs": [],
   "source": [
    "cfp_df"
   ]
  },
  {
   "cell_type": "code",
   "execution_count": null,
   "metadata": {},
   "outputs": [],
   "source": [
    "cfp_df['Object - 0 Mean Intensity (ADU), ch1:CFP'].plot() # (kind='bar')"
   ]
  },
  {
   "cell_type": "code",
   "execution_count": null,
   "metadata": {},
   "outputs": [],
   "source": [
    "cfp_df = cfp_df.sort_values(by='corrected column', ascending=False)\n",
    "cfp_df\n",
    "# Then ploting the new sorted dataframe will result beautiful sorted graph"
   ]
  },
  {
   "cell_type": "code",
   "execution_count": null,
   "metadata": {},
   "outputs": [],
   "source": [
    "cfp_df.head() # print first 5 rows customize using .head(n) n is number of rows you want to see"
   ]
  },
  {
   "cell_type": "code",
   "execution_count": null,
   "metadata": {},
   "outputs": [],
   "source": [
    "# pd.set_option('precision', 1) # Using panda here\n",
    "# pd.reset_option('precision')\n"
   ]
  },
  {
   "cell_type": "code",
   "execution_count": null,
   "metadata": {},
   "outputs": [],
   "source": [
    "cfp_df.describe()"
   ]
  },
  {
   "cell_type": "code",
   "execution_count": null,
   "metadata": {},
   "outputs": [],
   "source": [
    "cfp_df['corrected column'].plot()"
   ]
  },
  {
   "cell_type": "code",
   "execution_count": null,
   "metadata": {},
   "outputs": [],
   "source": [
    "# FRET part starts here # 78"
   ]
  },
  {
   "cell_type": "code",
   "execution_count": null,
   "metadata": {},
   "outputs": [],
   "source": [
    "fret_df = time_course_df.iloc[78:153] # FRET dataframe"
   ]
  },
  {
   "cell_type": "code",
   "execution_count": null,
   "metadata": {},
   "outputs": [],
   "source": [
    "fret_df"
   ]
  },
  {
   "cell_type": "code",
   "execution_count": null,
   "metadata": {},
   "outputs": [],
   "source": [
    "# YFP part starts here # 156"
   ]
  },
  {
   "cell_type": "code",
   "execution_count": null,
   "metadata": {},
   "outputs": [],
   "source": [
    "yfp_df = time_course_df.iloc[156:231] # YFP dataframe"
   ]
  },
  {
   "cell_type": "code",
   "execution_count": null,
   "metadata": {},
   "outputs": [],
   "source": [
    "yfp_df"
   ]
  },
  {
   "cell_type": "code",
   "execution_count": null,
   "metadata": {},
   "outputs": [],
   "source": [
    "# E-FRET part starts here # 234"
   ]
  },
  {
   "cell_type": "code",
   "execution_count": null,
   "metadata": {},
   "outputs": [],
   "source": [
    "efret_df = time_course_df.iloc[234:] # E-FRET dataframe"
   ]
  },
  {
   "cell_type": "code",
   "execution_count": null,
   "metadata": {},
   "outputs": [],
   "source": [
    "efret_df"
   ]
  },
  {
   "cell_type": "code",
   "execution_count": null,
   "metadata": {},
   "outputs": [],
   "source": [
    "efret_df = efret_df.replace('--', 0)"
   ]
  },
  {
   "cell_type": "code",
   "execution_count": null,
   "metadata": {},
   "outputs": [],
   "source": [
    "efret_df"
   ]
  },
  {
   "cell_type": "code",
   "execution_count": null,
   "metadata": {},
   "outputs": [],
   "source": [
    "background_col = [col for col, ser in efret_df.iteritems() if ser.astype(str).str.match('-1.#IND0*').any()] # find the background column from the E-FRET data frame\n",
    "background_col"
   ]
  },
  {
   "cell_type": "code",
   "execution_count": 67,
   "metadata": {},
   "outputs": [
    {
     "output_type": "execute_result",
     "data": {
      "text/plain": "0"
     },
     "metadata": {},
     "execution_count": 67
    }
   ],
   "source": [
    "# background column's index\n",
    "background_col_index = efret_df.columns.get_loc(background_col[0])\n",
    "background_col_index"
   ]
  },
  {
   "cell_type": "code",
   "execution_count": 68,
   "metadata": {},
   "outputs": [
    {
     "output_type": "execute_result",
     "data": {
      "text/plain": "'Object - 0 Mean Intensity (ADU), ch1:CFP'"
     },
     "metadata": {},
     "execution_count": 68
    }
   ],
   "source": [
    "efret_df.columns[background_col_index]"
   ]
  },
  {
   "cell_type": "code",
   "execution_count": null,
   "metadata": {},
   "outputs": [],
   "source": [
    "cfp_df[background_col[0]]"
   ]
  },
  {
   "cell_type": "code",
   "execution_count": null,
   "metadata": {},
   "outputs": [],
   "source": [
    "cfp_df.columns[background_col_index]"
   ]
  },
  {
   "cell_type": "code",
   "execution_count": null,
   "metadata": {},
   "outputs": [],
   "source": [
    "cfp_df"
   ]
  },
  {
   "cell_type": "code",
   "execution_count": null,
   "metadata": {},
   "outputs": [],
   "source": [
    "cfp_df['Corrected ' + 'Object - 1 Mean Intensity (ADU), ch1:CFP'] = cfp_df['Object - 1 Mean Intensity (ADU), ch1:CFP'].sub(cfp_df[cfp_df.columns[background_col_index]])\n",
    "cfp_df.head()"
   ]
  },
  {
   "cell_type": "code",
   "execution_count": null,
   "metadata": {},
   "outputs": [],
   "source": [
    "# cfp_df.columns.get_loc(\"Object - 0 Mean Intensity (ADU), ch1:CFP\")"
   ]
  },
  {
   "cell_type": "code",
   "execution_count": null,
   "metadata": {
    "tags": [
     "outputPrepend"
    ]
   },
   "outputs": [],
   "source": [
    "# cfp_df.columns\n",
    "# [c for c in cfp_df.columns]\n",
    "# [cfp_df.columns.get_loc(c) for c in cfp_df.columns]\n",
    "# z = [ row.cfp_df.columns[background_col_index] + cfp_df.columns[background_col_index] for index, row in cfp_df.iterrows() ]\n",
    "\n",
    "# for index, row in cfp_df.iterrows():\n",
    "#     print(row['Object - 0 Mean Intensity (ADU), ch1:CFP'])\n",
    "\n",
    "# Corrected CFP data frame\n",
    "corrected_cfp_df = pd.DataFrame()\n",
    "for c in cfp_df.columns:\n",
    "    corrected_cfp_df[c] = cfp_df.apply(lambda row: row[c] - row[cfp_df.columns[background_col_index]], axis=1)\n",
    "corrected_cfp_df.head()"
   ]
  },
  {
   "cell_type": "code",
   "execution_count": null,
   "metadata": {},
   "outputs": [],
   "source": [
    "# [cfp_df.columns.get_loc(c) for c in cols if c in cfp_df]\n",
    "# z = [ row for index, row in df.iterrows() ]\n",
    "# dfObj = cfp_df.assign(Percentage =lambda x: (x['Marks'] / x['Total'] ) * 100)\n",
    "# [cfp_df.columns for c in cfp_df]"
   ]
  },
  {
   "cell_type": "code",
   "execution_count": null,
   "metadata": {},
   "outputs": [],
   "source": [
    "# df['z'] = cfp_df.apply(lambda row: row.x + row.y, axis=1)"
   ]
  },
  {
   "cell_type": "code",
   "execution_count": null,
   "metadata": {},
   "outputs": [],
   "source": [
    "# Corrected YFP data frame\n",
    "corrected_yfp_df = pd.DataFrame()\n",
    "for c in cfp_df.columns:\n",
    "    corrected_yfp_df[c] = yfp_df.apply(lambda row: row[c] - row[yfp_df.columns[background_col_index]], axis=1)\n",
    "corrected_yfp_df.head()"
   ]
  },
  {
   "cell_type": "code",
   "execution_count": null,
   "metadata": {},
   "outputs": [],
   "source": [
    "# Ratio of corrected_cfp_df / corrected_yfp_df\n",
    "ratio_df = pd.DataFrame()\n",
    "ratio_df = corrected_cfp_df.div(corrected_yfp_df, level=1, fill_value=0)\n",
    "ratio_df.head()"
   ]
  },
  {
   "cell_type": "code",
   "execution_count": null,
   "metadata": {},
   "outputs": [],
   "source": [
    "# Ratio of corrected_cfp_df / corrected_yfp_df cleaning here initial and final only"
   ]
  },
  {
   "cell_type": "code",
   "execution_count": null,
   "metadata": {},
   "outputs": [],
   "source": [
    "# ratio_df_clean = ratio_df"
   ]
  },
  {
   "cell_type": "code",
   "execution_count": null,
   "metadata": {},
   "outputs": [],
   "source": [
    "ratio_df = ratio_df.iloc[[0, -1]]\n",
    "ratio_df"
   ]
  },
  {
   "cell_type": "code",
   "execution_count": null,
   "metadata": {},
   "outputs": [],
   "source": [
    "# Delete column at index background_col_index\n",
    "ratio_df_clean = ratio_df.drop([ratio_df.columns[background_col_index]], axis='columns')\n",
    "ratio_df_clean"
   ]
  },
  {
   "cell_type": "code",
   "execution_count": null,
   "metadata": {},
   "outputs": [],
   "source": [
    "# final_df.columns.str.replace(' Mean Intensity (ADU), ch1:CFP', '')\n",
    "# final_df.columns = final_df.columns.str.replace(\" Mean Intensity (ADU), ch1:CFP\", \"\")\n",
    "# final_df.columns\n",
    "# final_df.loc[:, final_df.columns.str.contains('Object - 2')]\n",
    "ratio_df_clean.columns = ratio_df_clean.columns.str.replace(r\" Mean Intensity \\(.*\\), ch1:CFP\",\"\")\n",
    "# final_df.columns = final_df.columns.str.replace(\" Mean Intensity , ch1:CFP\",'', regex=False)\n",
    "ratio_df_clean = ratio_df_clean.replace(np.nan, 'Background', regex=True)"
   ]
  },
  {
   "cell_type": "code",
   "execution_count": null,
   "metadata": {},
   "outputs": [],
   "source": [
    "ratio_df_clean.T.rename(lambda x: 'initial' if x == 0 else 'final', axis=1)"
   ]
  },
  {
   "cell_type": "code",
   "execution_count": null,
   "metadata": {},
   "outputs": [],
   "source": [
    "# final_df.rename_axis(0)\n",
    "# final_df.reset_index()\n",
    "ratio_df_clean.index.names = [None]\n",
    "final_ratio_df = ratio_df_clean.T\n",
    "final_ratio_df"
   ]
  },
  {
   "cell_type": "code",
   "execution_count": null,
   "metadata": {},
   "outputs": [],
   "source": [
    "# E-FRET cleaning here initial and final only"
   ]
  },
  {
   "cell_type": "code",
   "execution_count": null,
   "metadata": {},
   "outputs": [],
   "source": [
    "efret_df = efret_df.iloc[[0, -1]]\n",
    "efret_df"
   ]
  },
  {
   "cell_type": "code",
   "execution_count": null,
   "metadata": {},
   "outputs": [],
   "source": [
    "# Delete column at index background_col_index\n",
    "efret_df_clean = efret_df.drop([efret_df.columns[background_col_index]], axis='columns')\n",
    "efret_df_clean"
   ]
  },
  {
   "cell_type": "code",
   "execution_count": null,
   "metadata": {},
   "outputs": [],
   "source": [
    "efret_df_clean.columns = efret_df_clean.columns.str.replace(r\" Mean Intensity \\(.*\\), ch1:CFP\",\"\")\n",
    "efret_df_clean = efret_df_clean.replace(np.nan, 'Background', regex=True)"
   ]
  },
  {
   "cell_type": "code",
   "execution_count": null,
   "metadata": {},
   "outputs": [],
   "source": [
    "efret_df_clean.T.rename(lambda x: 'initial' if x == 0 else 'final', axis=1)"
   ]
  },
  {
   "cell_type": "code",
   "execution_count": null,
   "metadata": {},
   "outputs": [],
   "source": [
    "efret_df_clean.index.names = [None]\n",
    "final_efret_df = efret_df_clean.T\n",
    "final_efret_df"
   ]
  },
  {
   "cell_type": "code",
   "execution_count": null,
   "metadata": {},
   "outputs": [],
   "source": [
    "# result = pd.concat(ratio_df_clean, efret_df_clean)\n",
    "# result\n",
    "ratio_df_clean\n",
    "efret_df_clean"
   ]
  },
  {
   "cell_type": "code",
   "execution_count": null,
   "metadata": {},
   "outputs": [],
   "source": [
    "ratio_df_clean\n",
    "# final_ratio_df"
   ]
  },
  {
   "cell_type": "code",
   "execution_count": null,
   "metadata": {},
   "outputs": [],
   "source": [
    "# efret_df\n",
    "efret_df_clean.columns = efret_df_clean.columns.str.replace(r\" Mean Intensity \\(.*\\), ch1:CFP\",\"\")\n",
    "efret_df_clean = efret_df_clean.replace(np.nan, 'Background', regex=True)\n",
    "efret_df_clean\n",
    "# final_efret_df"
   ]
  },
  {
   "cell_type": "code",
   "execution_count": null,
   "metadata": {},
   "outputs": [],
   "source": [
    "ratio_df_clean\n",
    "efret_df_clean\n",
    "f = ratio_df_clean.concat(efret_df_clean)\n",
    "f.T"
   ]
  },
  {
   "cell_type": "code",
   "execution_count": null,
   "metadata": {},
   "outputs": [],
   "source": [
    "efret_df_clean"
   ]
  },
  {
   "cell_type": "code",
   "execution_count": null,
   "metadata": {},
   "outputs": [],
   "source": [
    "frames = [ratio_df_clean, efret_df_clean]\n",
    "#concatenate dataframes\n",
    "# df = pd.concat(frames)\n",
    "# df\n",
    "# df = pd.merge(frames, on=[\"TimePoint\"])\n",
    "# df\n",
    "\n",
    "df = ratio_df_clean.join(efret_df_clean, lsuffix=\"_left\", rsuffix=\"_right\")\n",
    "df"
   ]
  },
  {
   "cell_type": "code",
   "execution_count": null,
   "metadata": {},
   "outputs": [],
   "source": [
    "df.columns = df.columns.str.replace(r\" Mean Intensity \\(.*\\), ch1:CFP\",\"\")\n",
    "df.index.names = [None]\n",
    "result = df.T.rename(lambda x: 'initial' if x == 0 else 'final', axis=1)\n",
    "result.pivot()"
   ]
  },
  {
   "cell_type": "code",
   "execution_count": null,
   "metadata": {},
   "outputs": [],
   "source": []
  },
  {
   "cell_type": "code",
   "execution_count": null,
   "metadata": {},
   "outputs": [],
   "source": []
  }
 ],
 "metadata": {
  "language_info": {
   "codemirror_mode": {
    "name": "ipython",
    "version": 3
   },
   "file_extension": ".py",
   "mimetype": "text/x-python",
   "name": "python",
   "nbconvert_exporter": "python",
   "pygments_lexer": "ipython3",
   "version": "3.8.2-final"
  },
  "orig_nbformat": 2,
  "kernelspec": {
   "name": "python38264bitvenvvenvc2e6d445173e49f58b13e457338ad114",
   "display_name": "Python 3.8.2 64-bit ('venv': venv)"
  }
 },
 "nbformat": 4,
 "nbformat_minor": 2
}