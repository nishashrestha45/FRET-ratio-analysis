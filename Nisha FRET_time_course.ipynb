{
 "cells": [
  {
   "cell_type": "code",
   "execution_count": null,
   "metadata": {},
   "outputs": [],
   "source": [
    "import pandas as pd\n",
    "import numpy as np\n",
    "import matplotlib.pyplot as plt"
   ]
  },
  {
   "cell_type": "code",
   "execution_count": null,
   "metadata": {},
   "outputs": [],
   "source": [
    "#load the excel file\n",
    "df = pd.read_excel(r\"C:\\\\Users\\\\nisha\\\\OneDrive\\\\Desktop\\\\Testing Python\\\\time-course_2.xlsx\", skiprows=6)\n",
    "df.head(200)"
   ]
  },
  {
   "cell_type": "code",
   "execution_count": null,
   "metadata": {},
   "outputs": [],
   "source": [
    "#CFP values\n",
    "CFP = df.iloc[:75, :]\n",
    "CFP.tail(10)\n",
    "\n",
    "# Get the number of columns\n",
    "#no_of_column = len(df.columns)\n",
    "#print(no_of_column)\n",
    "#column_name = 0\n",
    "# print(df.iloc[:,1:])\n",
    "#x_cols = [x for x in df.columns if x != 'TimePoint']\n",
    "#print(x_cols)\n",
    "#for column_name in range(df.iloc[:,1:]):\n",
    "#    print(column_name)\n",
    "#    if column_name < len(df.columns):\n",
    "#        column_name = \"object\" + column_name\n",
    "#       print(column_name)\n",
    "       \n",
    "#print(c)\n",
    "\n",
    "        \n",
    "\n"
   ]
  },
  {
   "cell_type": "code",
   "execution_count": null,
   "metadata": {},
   "outputs": [],
   "source": [
    "#YFP values\n",
    "YFP = df.iloc[78:153, :]\n",
    "YFP.head(10)\n",
    "# YFP.rename(columns={'Object - 0 Mean Intensity (ADU), ch1:CFP':'Object - 0 Mean Intensity (ADU), ch1:YFP','Object - 1 Mean Intensity (ADU), ch1:CFP':'Object - 1 Mean Intensity (ADU), ch1:YFP','Object - 2 Mean Intensity (ADU), ch1:CFP':'Object - 2 Mean Intensity (ADU), ch1:YFP','Object - 3 Mean Intensity (ADU), ch1:CFP':'Object - 3 Mean Intensity (ADU), ch1:YFP','Object - 4 Mean Intensity (ADU), ch1:YFP':'Object - 4 Mean Intensity (ADU), ch1:YFP','Object - 5 Mean Intensity (ADU), ch1:CFP':'Object - 5 Mean Intensity (ADU), ch1:YFP','Object - 6 Mean Intensity (ADU), ch1:CFP':'Object - 6 Mean Intensity (ADU), ch1:YFP'},inplace = True)\n",
    "\n",
    "\n"
   ]
  },
  {
   "cell_type": "code",
   "execution_count": null,
   "metadata": {},
   "outputs": [],
   "source": [
    "#FRET values\n",
    "Fret = df.iloc[234:309,:]\n",
    "Fret.tail(10)\n",
    "\n",
    "#print(fret['Object - 1 Mean Intensity (ADU), ch1:CFP'].mask(fret['Object - 1 Mean Intensity (ADU), ch1:CFP'] == '', 0))"
   ]
  },
  {
   "cell_type": "code",
   "execution_count": null,
   "metadata": {},
   "outputs": [],
   "source": [
    "#rename the heading with YFP\n",
    "#df.rename(columns={'Object - 0 Mean Intensity (ADU), ch1:CFP':'Object - 0 Mean Intensity (ADU), ch1:YFP','Object - 1 Mean Intensity (ADU), ch1:CFP':'Object - 1 Mean Intensity (ADU), ch1:YFP','Object - 2 Mean Intensity (ADU), ch1:CFP':'Object - 2 Mean Intensity (ADU), ch1:YFP','Object - 3 Mean Intensity (ADU), ch1:CFP':'Object - 3 Mean Intensity (ADU), ch1:YFP','Object - 4 Mean Intensity (ADU), ch1:YFP':Object - 4 Mean Intensity (ADU), ch1:YFP','Object - 5 Mean Intensity (ADU), ch1:CFP':'Object - 5 Mean Intensity (ADU), ch1:YFP','Object - 6 Mean Intensity (ADU), ch1:CFP':'Object - 6 Mean Intensity (ADU), ch1:YFP'},inplace = True)\n",
    "#df.head(10)"
   ]
  },
  {
   "cell_type": "code",
   "execution_count": null,
   "metadata": {},
   "outputs": [],
   "source": [
    "# convert_fill(Fret)\n",
    "# Fret.fillna(0\n",
    "Fret.replace('--',0)"
   ]
  },
  {
   "cell_type": "code",
   "execution_count": null,
   "metadata": {},
   "outputs": [],
   "source": [
    "def find_background_column_X(df):\n",
    "    x_cols = [x for x in df.columns if x != 'TimePoint']\n",
    "    for col in x_cols:\n",
    "        df[col].str.contains('-1.#IND0')\n",
    "        return df[col]"
   ]
  },
  {
   "cell_type": "code",
   "execution_count": null,
   "metadata": {},
   "outputs": [],
   "source": [
    "# find_background_column(Fret)\n",
    "Fret.apply(lambda row: row.astype(str).str.contains('-1.#IND0').any())\n",
    "# spike_cols =[x for x in Fret.columns[Fret.str.contains('-1.#IND0')]]\n",
    "# print(spike_cols)\n",
    "# Fret.columns[1]"
   ]
  },
  {
   "cell_type": "code",
   "execution_count": null,
   "metadata": {},
   "outputs": [],
   "source": [
    "find_background_column_X(Fret)"
   ]
  },
  {
   "cell_type": "code",
   "execution_count": null,
   "metadata": {},
   "outputs": [],
   "source": [
    "find_background_column(Fret)"
   ]
  },
  {
   "cell_type": "code",
   "execution_count": null,
   "metadata": {},
   "outputs": [],
   "source": [
    "columns = [col for col, ser in Fret.iteritems() if ser.astype(str).str.match('-1.#IND0*').any()]\n",
    "columns"
   ]
  },
  {
   "cell_type": "code",
   "execution_count": null,
   "metadata": {},
   "outputs": [],
   "source": []
  }
 ],
 "metadata": {
  "kernelspec": {
   "display_name": "Python 3",
   "language": "python",
   "name": "python3"
  },
  "language_info": {
   "codemirror_mode": {
    "name": "ipython",
    "version": 3
   },
   "file_extension": ".py",
   "mimetype": "text/x-python",
   "name": "python",
   "nbconvert_exporter": "python",
   "pygments_lexer": "ipython3",
   "version": "3.8.2-final"
  }
 },
 "nbformat": 4,
 "nbformat_minor": 4
}